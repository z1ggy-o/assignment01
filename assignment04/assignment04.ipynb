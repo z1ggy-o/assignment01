{
 "cells": [
  {
   "cell_type": "markdown",
   "metadata": {},
   "source": [
    "# K-means Algorithm with Images\n",
    "\n",
    "**Name**: ZHU GUANGYU  \n",
    "**Student ID**: 20165953  \n",
    "**Github Repo**: [assignment04](https://github.com/z1ggy-o/cv_assignment/tree/master/assignment04)  \n",
    "\n",
    "---\n",
    "\n",
    "## Clustering\n",
    "\n",
    "the goal of *clustering* is to group or partition the vectors into *k* groups or clusters, with the vectors in each group close to each other.\n",
    "\n",
    "the best clustering:\n",
    "- can find the best slustering, if the representatives are fixed;\n",
    "- can find the vest representatives, if the clustering is fixed.\n",
    "\n",
    "We use a single number to judge a choice of clustering, along with a choice of the group. We define:\n",
    "\n",
    "$$\n",
    "J^{clust}=(||x_{1}-z_{c_{1}}||^{2}+ \\cdots +||x_{N}-z_{c_{N}}||^{2})/N\n",
    "$$\n",
    "\n",
    "Here $x_{N}$ is vector, $z_{c_{N}}$ is correspond representatives. We call this value *energy* or *cost*.\n",
    "\n",
    "### When representatives fixed\n",
    "\n",
    "We assign each date vector $x_{i}$ to its nearest representatives. Since the representatives are fixed, we actually re-grouped vectors into different partitions. We have:\n",
    "$$ ||x_{i}-z_{c_{i}}|| = \\min_{j=1,\\cdots\\,k}||x_{i}-z_{c_{i}}|| $$ \n",
    "\n",
    "This gives us the minimum $J^{clust}$.\n",
    "\n",
    "### When group assignment fixed\n",
    "\n",
    "This means the element vectors of each group are fixed. We need to find the group representatives to minimize our cost $J^{clust}$.\n",
    "\n",
    "Simply, choose the average of the vectros in its group:\n",
    "$$ z_{j} = (1/|G_{j}|)\\sum_{i\\in G_{j}}x_{i}$$\n",
    "\n",
    "since this makes the sum of distance between points and its representative minimum.\n",
    "\n",
    "## *k*-means Algorithm\n",
    "\n",
    "Previous two methods can help us get the best clustering. But the two methods are depend on each other. To solve this problem, we can use *k-means algorithm*.\n",
    "\n",
    "*k-means algorithm*'s idea is simple. We repeatedly alternate between updating the group assignments, then updating the representatives. In each iteration we get a better $J^{clust}$ until the step does not change the choice.\n",
    "\n",
    "Have to be aware of is k-means algorithm **cannot** guarantee that the partition it finds minimizes $J^{clust}$. Commonly, we run it several times with different initial representatives, and choose the one with the smallest cost.\n",
    "\n",
    "There is another problem is to determin the optimal number of clusters (here is the *k*).  \n",
    "If you have given number of clusters, that's fine. If you don't, there are few methods can help us:\n",
    "\n",
    "- [Elbow method](https://en.wikipedia.org/wiki/Elbow_method_%28clustering%29 )\n",
    "- [The silhouette method](https://en.wikipedia.org/wiki/Silhouette_%28clustering%29)\n",
    "- [Gap statistic](http://web.stanford.edu/~hastie/Papers/gap.pdf)\n",
    "\n",
    "---\n"
   ]
  },
  {
   "cell_type": "markdown",
   "metadata": {},
   "source": [
    "## Implementation\n",
    "\n",
    "This time we try to modify the *k-means* algorithm we did last time to cluster image datas.\n",
    "\n",
    "The algorithm part is almost same, just need to change the data vector size and plotting functions.\n",
    "\n",
    "---\n",
    "\n",
    "First, import packages that we need.\n",
    "\n",
    "- `numpy` for scientific computing\n",
    "- `matplotlib` for visualization\n",
    "- `math` is the python build in math packages."
   ]
  },
  {
   "cell_type": "code",
   "execution_count": 1,
   "metadata": {},
   "outputs": [],
   "source": [
    "import math\n",
    "import numpy as np\n",
    "from matplotlib import pyplot as plt"
   ]
  },
  {
   "cell_type": "markdown",
   "metadata": {},
   "source": [
    "### Read file and pre-processing\n",
    "\n",
    "Define a class called `DataSet` to read image data from file and normaize the input data."
   ]
  },
  {
   "cell_type": "code",
   "execution_count": 2,
   "metadata": {},
   "outputs": [],
   "source": [
    "class DataSet:\n",
    "    \"\"\"Read data from files\n",
    "\n",
    "    Read image datas from data files.\n",
    "    Normalize the data then change the data to vector from\n",
    "    \"\"\"\n",
    "\n",
    "    def __init__(self, file=\"mnist_test.csv\"):\n",
    "        self.size_row = 28  # height of the image data\n",
    "        self.size_col = 28  # width of the image data\n",
    "        self.len_vec = self.size_row * self.size_col\n",
    "\n",
    "        # read data from file\n",
    "        _handle_file = open(file, 'r')\n",
    "        _data = _handle_file.readlines()\n",
    "        _handle_file.close()\n",
    "\n",
    "        self.num_image = len(_data)\n",
    "\n",
    "        self.list_image = np.empty((self.len_vec, self.num_image), dtype=float)\n",
    "        self.list_label = np.empty(self.num_image, dtype=int)\n",
    "\n",
    "        # change the image datas into vector forms\n",
    "        _count = 0\n",
    "        for line in _data:\n",
    "            line_data = line.split(',')\n",
    "            label = line_data[0]\n",
    "            img_vector = np.asfarray(line_data[1:])\n",
    "            img_vector = self._normalize(img_vector)\n",
    "\n",
    "            self.list_label[_count] = label\n",
    "            self.list_image[:, _count] = img_vector  # [:, i] get ith col\n",
    "            _count += 1"
   ]
  },
  {
   "cell_type": "markdown",
   "metadata": {},
   "source": [
    "*normalizing* means transforming the vector so that it has unit norm.\n",
    "\n",
    "Here we do the normalizing by formula:\n",
    "$$z_{i} = \\frac{x_{i}-\\min{(x)}}{\\max{(x)}-\\min{(x)}}$$"
   ]
  },
  {
   "cell_type": "code",
   "execution_count": 4,
   "metadata": {},
   "outputs": [],
   "source": [
    "    def _normalize(self, data):\n",
    "        \"\"\"Normalize the values of the input data into [0, 1]\"\"\"\n",
    "        data_normalized = (data - min(data)) / (max(data) - min(data))\n",
    "\n",
    "        return data_normalized\n",
    "    \n",
    "# for jupyter notebook\n",
    "DataSet._normalize = _normalize"
   ]
  },
  {
   "cell_type": "markdown",
   "metadata": {},
   "source": [
    "---\n",
    "\n",
    "### k-means algorithm part\n",
    "\n",
    "Create a class `KMeans` to group the functions about algorithm together.\n",
    "\n",
    "Here the `__init__` constructor has two parameters:\n",
    "\n",
    "- `data`: image data read by `DataSet`\n",
    "- `k`: number of clusters we want"
   ]
  },
  {
   "cell_type": "code",
   "execution_count": 5,
   "metadata": {},
   "outputs": [],
   "source": [
    "class KMeans:\n",
    "    \"\"\"k-means algorithm for images\n",
    "\n",
    "    Clustring the image datas into k groups.\n",
    "    Compute each iteration's energy and accuracy. \n",
    "    \"\"\"\n",
    "\n",
    "    def __init__(self, data, k=10):\n",
    "        self.k = k\n",
    "        self.data = data\n",
    "        self.energy_history = []\n",
    "        self.accuracy_history = []\n",
    "        self.centroids = []\n",
    "        self.clusters = [[] for _ in range(k)]\n",
    "        self.labels = []"
   ]
  },
  {
   "cell_type": "markdown",
   "metadata": {},
   "source": [
    "#### Define some getter function for plotting graph."
   ]
  },
  {
   "cell_type": "code",
   "execution_count": 6,
   "metadata": {},
   "outputs": [],
   "source": [
    "    def getEnergyHistory(self):\n",
    "        return self.energy_history\n",
    "\n",
    "    def getAccuracyHistory(self):\n",
    "        return self.accuracy_history\n",
    "    \n",
    "# for jupyter notebook\n",
    "KMeans.getEnergyHistory = getEnergyHistory\n",
    "KMeans.getAccuracyHistory = getAccuracyHistory"
   ]
  },
  {
   "cell_type": "markdown",
   "metadata": {},
   "source": [
    "#### Define the initialization function\n",
    "\n",
    "This initialization function will:\n",
    "\n",
    "1. randomly assign labels to images\n",
    "2. compute the initial centroids\n",
    "3. compute the initial system energy\n",
    "4. compute the initial accuracy\n",
    "\n",
    "We separate each step into different functions."
   ]
  },
  {
   "cell_type": "code",
   "execution_count": 7,
   "metadata": {},
   "outputs": [],
   "source": [
    "    def initialCluster(self):\n",
    "        self._initialLabel()\n",
    "        self._computeCentroid()\n",
    "        self._computeEnergy()\n",
    "        self._computeAccuracy()\n",
    "        \n",
    "# for jupyter notebook\n",
    "KMeans.initialCluster = initialCluster"
   ]
  },
  {
   "cell_type": "markdown",
   "metadata": {},
   "source": [
    "Label initialization is very simple.  \n",
    "In range $[0,k)$, we assign labels to images in order.\n",
    "\n",
    "Instead of store the data vector into cluster list, we just append\n",
    "image's index in `list_image`.  \n",
    "Use index can let easily get each image's original label."
   ]
  },
  {
   "cell_type": "code",
   "execution_count": 8,
   "metadata": {},
   "outputs": [],
   "source": [
    "    def _initialLabel(self):\n",
    "        # for i in range(100):\n",
    "        for i in range(self.data.num_image):\n",
    "            index = i % self.k\n",
    "            self.clusters[index].append(i)\n",
    "            \n",
    "# for jupyter notebook\n",
    "KMeans._initialLabel = _initialLabel"
   ]
  },
  {
   "cell_type": "markdown",
   "metadata": {},
   "source": [
    "We still use vectors' mean value as cluster's centroid.\n",
    "\n",
    "The compute method is same, but the data structure have been changed.\n",
    "Here we use nest array to represent a data matrix. Each column of the matrix is one image's data.\n",
    "\n",
    "I used the simplest way, traversal the matrix, to access data. It works, but the time complexity becomes to $row \\cdot col$"
   ]
  },
  {
   "cell_type": "code",
   "execution_count": 9,
   "metadata": {},
   "outputs": [],
   "source": [
    "   def _computeCentroid(self):\n",
    "        \"\"\" Compute each groups centroid then update self.controids \"\"\"\n",
    "\n",
    "        new_centroids = []\n",
    "        n = self.data.len_vec\n",
    "\n",
    "        for cluster in self.clusters:\n",
    "            centroid = [0] * n\n",
    "            num_elements = 0\n",
    "\n",
    "            # sum of the cluster's elements\n",
    "            for img in cluster:\n",
    "                num_elements += 1\n",
    "                for row in range(n):\n",
    "                    centroid[row] += self.data.list_image[row][img]\n",
    "\n",
    "            centroid = [row/num_elements for row in centroid]\n",
    "            new_centroids.append(centroid)\n",
    "\n",
    "        self.centroids = new_centroids\n",
    "        \n",
    "# for jupyter notebook\n",
    "KMeans._computeCentroid = _computeCentroid"
   ]
  },
  {
   "cell_type": "markdown",
   "metadata": {},
   "source": [
    "The **energy** computation is same as before:\n",
    "$$\n",
    "J^{clust}=(||x_{1}-z_{c_{1}}||^{2}+ \\cdots +||x_{N}-z_{c_{N}}||^{2})/N\n",
    "$$\n",
    "\n",
    "Because of the data representation, we use `list_image[:, index]` this\n",
    "syntex to get the column of the matrix."
   ]
  },
  {
   "cell_type": "code",
   "execution_count": 11,
   "metadata": {},
   "outputs": [],
   "source": [
    "def _computeEnergy(self):\n",
    "        \"\"\" Compute the cost of the clustering result\n",
    "\n",
    "        Return:\n",
    "            energy(float): the energy of this clustering.\n",
    "        \"\"\"\n",
    "\n",
    "        energy = 0\n",
    "        for i in range(len(self.centroids)):\n",
    "            centroid = self.centroids[i]\n",
    "            part_energy = 0\n",
    "            for index in self.clusters[i]:\n",
    "                part_energy += self._computeDistance(\n",
    "                    x=self.data.list_image[:, index], y=centroid)\n",
    "            energy += part_energy\n",
    "        energy = energy / self.data.num_image\n",
    "        self.energy_history.append(energy)\n",
    "\n",
    "        return energy\n",
    "    \n",
    "# for jupyter notebook\n",
    "KMeans._computeEnergy = _computeEnergy"
   ]
  },
  {
   "cell_type": "markdown",
   "metadata": {},
   "source": [
    "The **accuracy** is the ratio of the most frequently occurring elements in the group.  \n",
    "So we need to iterate all the elements then find the most frequently occurring image and count the number of occurrences."
   ]
  },
  {
   "cell_type": "code",
   "execution_count": 12,
   "metadata": {},
   "outputs": [],
   "source": [
    "def _computeAccuracy(self):\n",
    "        \"\"\"Compute the arrcuracy of the result\n",
    "\n",
    "        In each group, let the largest number of elements to be the group label.\n",
    "        \"\"\"\n",
    "\n",
    "        accuracy = 0\n",
    "        labels_clusters = []\n",
    "\n",
    "        for cluster in self.clusters:\n",
    "            labels = []\n",
    "\n",
    "            # get all the labels in the cluster\n",
    "            for index in cluster:\n",
    "                labels.append(self.data.list_label[index])\n",
    "\n",
    "            # get the largest number of lable, count the occurences\n",
    "            labels.sort()\n",
    "            count = 0\n",
    "            count_max = 0\n",
    "            label_prev = -1\n",
    "            label_max = -1\n",
    "            for label in labels:\n",
    "                if label == label_prev:\n",
    "                    count += 1\n",
    "                else:\n",
    "                    if count > count_max:\n",
    "                        count_max = count\n",
    "                        label_max = label_prev\n",
    "                    label_prev = label\n",
    "                    count = 1\n",
    "            # check the last item\n",
    "            if count > count_max:\n",
    "                count_max = count\n",
    "                label_max = label_prev\n",
    "\n",
    "            labels_clusters.append(label_max)\n",
    "            accuracy_part = count_max / len(cluster)\n",
    "            accuracy += accuracy_part\n",
    "\n",
    "        accuracy = accuracy / len(self.clusters)\n",
    "        self.labels = labels_clusters\n",
    "        self.accuracy_history.append(accuracy)\n",
    "        \n",
    "# for jupyter notebook\n",
    "KMeans._computeAccuracy = _computeAccuracy"
   ]
  },
  {
   "cell_type": "markdown",
   "metadata": {},
   "source": [
    "---\n",
    "\n",
    "### Trigger funtions\n",
    "\n",
    "In trigger function `run`, we define the condition to control when to stop our algorithm.\n",
    "\n",
    "Here we let the algorithm keep running until the `energy` not change.  \n",
    "Also computhe *energy* and *accuracy* of each iteration."
   ]
  },
  {
   "cell_type": "code",
   "execution_count": 13,
   "metadata": {},
   "outputs": [],
   "source": [
    "    def run(self):\n",
    "        \"\"\"Run algorithm\n",
    "\n",
    "        Repeatly assign labels to points and compute new centroids.\n",
    "        Iterate until the energy of the result not change.\n",
    "        \"\"\"\n",
    "\n",
    "        energy_prev = 0\n",
    "        energy_this = self.energy_history[0]\n",
    "        while(energy_this != energy_prev):\n",
    "            energy_prev = energy_this\n",
    "            energy_this = self._clustering()\n",
    "            self._computeAccuracy()\n",
    "            \n",
    "# for jupyter notebook\n",
    "KMeans.run = run"
   ]
  },
  {
   "cell_type": "markdown",
   "metadata": {},
   "source": [
    "Inside the `_clustering` function, it call `_assignLabel` and `_computeCentroid` one time to generate new result.\n",
    "\n",
    "Here we add one step after `_assignLabel` to remove the empty clusters."
   ]
  },
  {
   "cell_type": "code",
   "execution_count": 15,
   "metadata": {},
   "outputs": [],
   "source": [
    "    def _clustering(self):\n",
    "        \"\"\"Run algorithm one iteration\n",
    "\n",
    "        Return:\n",
    "            energy: This iteration's result energy\n",
    "        \"\"\"\n",
    "\n",
    "        self._assignLabel()\n",
    "        # After re-grouping if there are any empty cluster, delete it from list\n",
    "        self.clusters = [list for list in self.clusters if list]\n",
    "        self._computeCentroid()\n",
    "\n",
    "        return self._computeEnergy()\n",
    "    \n",
    "# for jupyter notebook\n",
    "KMeans._clustering = _clustering"
   ]
  },
  {
   "cell_type": "markdown",
   "metadata": {},
   "source": [
    "Assign new label to images depends on the Euclidean distance between each image vector and its centroid vector."
   ]
  },
  {
   "cell_type": "code",
   "execution_count": 16,
   "metadata": {},
   "outputs": [],
   "source": [
    "    def _assignLabel(self):\n",
    "        \"\"\" Assign labels to elemetns for generating new groups\n",
    "\n",
    "        Compute distance between each element with each centroid,\n",
    "        assign it to the closest centroid's group.\n",
    "        \"\"\"\n",
    "\n",
    "        # for each element, compute the distance, get the closest centroid\n",
    "        # generate k new cluster\n",
    "        new_clusters = [[] for _ in range(len(self.clusters))]\n",
    "\n",
    "        for index in range(self.data.num_image):\n",
    "            min = math.inf\n",
    "            closest = 0\n",
    "            # find the closest centroid\n",
    "            for j in range(len(self.centroids)):\n",
    "                dist = self._computeDistance(\n",
    "                    x=self.data.list_image[:, index], y=self.centroids[j])\n",
    "                if dist < min:\n",
    "                    min = dist\n",
    "                    closest = j\n",
    "            # put point into new group\n",
    "            new_clusters[closest].append(index)\n",
    "\n",
    "        self.clusters = new_clusters\n",
    "        \n",
    "# for jupyter notebook\n",
    "KMeans._assignLabel = _assignLabel"
   ]
  },
  {
   "cell_type": "markdown",
   "metadata": {},
   "source": [
    "*Euclidean distance* function.  \n",
    "Since we just use this value to do the comparison, we do not need the\n",
    "square root value."
   ]
  },
  {
   "cell_type": "code",
   "execution_count": 17,
   "metadata": {},
   "outputs": [],
   "source": [
    "    def _computeDistance(self, x, y):\n",
    "        \"\"\"Compute the distance between two points\n",
    "\n",
    "        (x1-x2)^2 + (y1-y2)^2\n",
    "        \"\"\"\n",
    "\n",
    "        # convert python list to np.array\n",
    "        x = np.array(x)\n",
    "        y = np.array(y)\n",
    "\n",
    "        d = (x - y)**2\n",
    "        s = np.sum(d)\n",
    "\n",
    "        return s\n",
    "    \n",
    "# for jupyter notebook\n",
    "KMeans._computeDistance = _computeDistance"
   ]
  },
  {
   "cell_type": "markdown",
   "metadata": {},
   "source": [
    "### Plotting functions\n",
    "\n",
    "We define two plotting functions here.\n",
    "\n",
    "- `plotImages`: plot the clustering result images\n",
    "- `plotChanges`: plot each iteration's energy and accuracy variations"
   ]
  },
  {
   "cell_type": "code",
   "execution_count": 61,
   "metadata": {},
   "outputs": [],
   "source": [
    "def plotImages(kmeans):\n",
    "    \"\"\"Plot the graph of clusters average value\"\"\"\n",
    "    k = len(kmeans.clusters)\n",
    "    size = kmeans.data.len_vec\n",
    "\n",
    "    im_average = np.zeros((size, k), dtype=float)\n",
    "    im_count = np.zeros(k, dtype=int)\n",
    "\n",
    "    # add each cluster's image value together\n",
    "    for i in range(k):\n",
    "        for img in kmeans.clusters[i]:\n",
    "            im_average[:, i] += kmeans.data.list_image[:, img]\n",
    "\n",
    "    # count number of each cluster's elements\n",
    "    for i in range(k):\n",
    "        im_count[i] = len(kmeans.clusters[i])\n",
    "\n",
    "    for i in range(k):\n",
    "        im_average[:, i] /= im_count[i]\n",
    "\n",
    "        plt.subplot(2, 5, i+1)\n",
    "        plt.title(kmeans.labels[i])\n",
    "        plt.imshow(im_average[:, i].reshape(\n",
    "                                            (kmeans.data.size_row,\n",
    "                                             kmeans.data.size_col)),\n",
    "                   cmap='Greys', interpolation='None')\n",
    "\n",
    "        frame = plt.gca()\n",
    "        frame.axes.get_xaxis().set_visible(False)\n",
    "        frame.axes.get_yaxis().set_visible(False)\n",
    "\n",
    "    plt.show()\n",
    "    \n",
    "\n",
    "def plotChanges(energies, accuracis):\n",
    "    \"\"\"Plot energy & accuracy history\n",
    "\n",
    "    Parameter:\n",
    "        energies(list): a list of energy\n",
    "        accuracis(list): a list of accuracy\n",
    "    \"\"\"\n",
    "\n",
    "    plt.rc('text', usetex=True)\n",
    "    plt.rc('font', family='serif')\n",
    "\n",
    "    fig = plt.figure()\n",
    "    \n",
    "    \n",
    "    ite = [i for i in np.arange(1, len(energies)+1, 1)]\n",
    "    \n",
    "    ax1 = fig.add_subplot(111)\n",
    "    ax1.set_title('Energy and Accuracy Variasion')\n",
    "    ax1.set_ylabel(r'Energy $J^{clust}$')\n",
    "    ax1.set_xticks(np.arange(1, len(energies)+1, step=5))\n",
    "    ax1.plot(ite, energies, '.-', color='b', label='Energy')\n",
    "    ax1.legend(bbox_to_anchor=(1.05, 1), loc=2, borderaxespad=0.)\n",
    "    \n",
    "    ax2 = ax1.twinx()\n",
    "    ax2.set_ylabel('Accuray')\n",
    "    ax2.get_xaxis().set_visible(False)\n",
    "    ax2.plot(ite, accuracis, '.-', color='r', label='Accuracy')\n",
    "    ax2.legend(bbox_to_anchor=(1.05, 1), loc=3, borderaxespad=0.)\n",
    "    \n",
    "    plt.show()\n",
    "    "
   ]
  },
  {
   "cell_type": "markdown",
   "metadata": {},
   "source": [
    "## Result\n",
    "\n",
    "Now let run the program to check the result.\n",
    "\n",
    "### K=10\n",
    "First, let's try when `k=10`:\n",
    "\n",
    "#### 1. Initial Images:"
   ]
  },
  {
   "cell_type": "code",
   "execution_count": 21,
   "metadata": {},
   "outputs": [
    {
     "data": {
      "image/png": "[encoded data removed]",
      "text/plain": [
       "<Figure size 432x288 with 10 Axes>"
      ]
     },
     "metadata": {},
     "output_type": "display_data"
    }
   ],
   "source": [
    "if __name__ == '__main__':\n",
    "    data = DataSet()\n",
    "    kmeans = KMeans(data, 10)\n",
    "    kmeans.initialCluster()\n",
    "    plotImages(kmeans)\n",
    "\n",
    "    kmeans.run()\n",
    "    "
   ]
  },
  {
   "cell_type": "markdown",
   "metadata": {},
   "source": [
    "#### 2. Final Images"
   ]
  },
  {
   "cell_type": "code",
   "execution_count": 22,
   "metadata": {},
   "outputs": [
    {
     "data": {
      "image/png": "[encoded data removed]",
      "text/plain": [
       "<Figure size 432x288 with 10 Axes>"
      ]
     },
     "metadata": {},
     "output_type": "display_data"
    }
   ],
   "source": [
    "plotImages(kmeans)"
   ]
  },
  {
   "cell_type": "markdown",
   "metadata": {},
   "source": [
    "#### 3. Energy and Accuray changes"
   ]
  },
  {
   "cell_type": "code",
   "execution_count": 86,
   "metadata": {},
   "outputs": [
    {
     "data": {
      "image/png": "[encoded data removed]",
      "text/plain": [
       "<Figure size 432x288 with 2 Axes>"
      ]
     },
     "metadata": {},
     "output_type": "display_data"
    },
    {
     "name": "stdout",
     "output_type": "stream",
     "text": [
      "Accuracy: 0.63\n"
     ]
    }
   ],
   "source": [
    "plotChanges(kmeans.getEnergyHistory(), kmeans.getAccuracyHistory())\n",
    "\n",
    "print('Accuracy: {0:.2f}'.format(kmeans.getAccuracyHistory()[-1]))"
   ]
  },
  {
   "cell_type": "markdown",
   "metadata": {},
   "source": [
    "### Other *k* values\n",
    "\n",
    "Let try other k to check how accuracy changes.\n",
    "\n",
    "#### k = 5"
   ]
  },
  {
   "cell_type": "code",
   "execution_count": 64,
   "metadata": {},
   "outputs": [],
   "source": [
    "    kmeans_5 = KMeans(data, 5)\n",
    "    kmeans_5.initialCluster()\n",
    "    kmeans_5.run()"
   ]
  },
  {
   "cell_type": "code",
   "execution_count": 66,
   "metadata": {},
   "outputs": [
    {
     "data": {
      "image/png": "[encoded data removed]",
      "text/plain": [
       "<Figure size 432x288 with 2 Axes>"
      ]
     },
     "metadata": {},
     "output_type": "display_data"
    }
   ],
   "source": [
    "plotChanges(kmeans_5.getEnergyHistory(), kmeans_5.getAccuracyHistory())"
   ]
  },
  {
   "cell_type": "markdown",
   "metadata": {},
   "source": [
    "#### k = 20"
   ]
  },
  {
   "cell_type": "code",
   "execution_count": 67,
   "metadata": {},
   "outputs": [],
   "source": [
    "    kmeans_20 = KMeans(data, 20)\n",
    "    kmeans_20.initialCluster()\n",
    "    kmeans_20.run()"
   ]
  },
  {
   "cell_type": "code",
   "execution_count": 68,
   "metadata": {},
   "outputs": [
    {
     "data": {
      "image/png": "[encoded data removed]",
      "text/plain": [
       "<Figure size 432x288 with 2 Axes>"
      ]
     },
     "metadata": {},
     "output_type": "display_data"
    }
   ],
   "source": [
    "plotChanges(kmeans_20.getEnergyHistory(), kmeans_20.getAccuracyHistory())"
   ]
  },
  {
   "cell_type": "markdown",
   "metadata": {},
   "source": [
    "#### k = 50"
   ]
  },
  {
   "cell_type": "code",
   "execution_count": 69,
   "metadata": {},
   "outputs": [],
   "source": [
    "    kmeans_50 = KMeans(data, 50)\n",
    "    kmeans_50.initialCluster()\n",
    "    kmeans_50.run()"
   ]
  },
  {
   "cell_type": "code",
   "execution_count": 71,
   "metadata": {},
   "outputs": [
    {
     "data": {
      "image/png": "[encoded data removed]",
      "text/plain": [
       "<Figure size 432x288 with 2 Axes>"
      ]
     },
     "metadata": {},
     "output_type": "display_data"
    }
   ],
   "source": [
    "plotChanges(kmeans_50.getEnergyHistory(), kmeans_50.getAccuracyHistory())"
   ]
  },
  {
   "cell_type": "markdown",
   "metadata": {},
   "source": [
    "#### K = 100"
   ]
  },
  {
   "cell_type": "code",
   "execution_count": 72,
   "metadata": {},
   "outputs": [],
   "source": [
    "    kmeans_100 = KMeans(data, 100)\n",
    "    kmeans_100.initialCluster()\n",
    "    kmeans_100.run()"
   ]
  },
  {
   "cell_type": "code",
   "execution_count": 74,
   "metadata": {},
   "outputs": [
    {
     "data": {
      "image/png": "[encoded data removed]",
      "text/plain": [
       "<Figure size 432x288 with 2 Axes>"
      ]
     },
     "metadata": {},
     "output_type": "display_data"
    }
   ],
   "source": [
    "plotChanges(kmeans_100.getEnergyHistory(), kmeans_100.getAccuracyHistory())"
   ]
  },
  {
   "cell_type": "markdown",
   "metadata": {},
   "source": [
    "#### Compare\n",
    "\n",
    "We can see from the graph, along with the *k* increase, the accuracy increase too."
   ]
  },
  {
   "cell_type": "code",
   "execution_count": 83,
   "metadata": {},
   "outputs": [
    {
     "data": {
      "image/png": "[encoded data removed]",
      "text/plain": [
       "<Figure size 432x288 with 1 Axes>"
      ]
     },
     "metadata": {},
     "output_type": "display_data"
    }
   ],
   "source": [
    "acc = []\n",
    "acc.append(kmeans_5.getAccuracyHistory()[-1])\n",
    "acc.append(kmeans.getAccuracyHistory()[-1])\n",
    "acc.append(kmeans_20.getAccuracyHistory()[-1])\n",
    "acc.append(kmeans_50.getAccuracyHistory()[-1])\n",
    "acc.append(kmeans_100.getAccuracyHistory()[-1])\n",
    "\n",
    "fig = plt.figure(2)\n",
    "    \n",
    "ite = [i for i in np.arange(1, 6, 1)]\n",
    "index_ls = ['5', '10', '20', '50', '100']\n",
    "plt.title('Relation between k and accuracy')\n",
    "plt.xticks(ite, index_ls)\n",
    "plt.ylabel('Accuracy')\n",
    "plt.xlabel('k')\n",
    "plt.plot(ite, acc, '.-', color='b')\n",
    "\n",
    "plt.show()"
   ]
  }
 ],
 "metadata": {
  "kernelspec": {
   "display_name": "Python 3",
   "language": "python",
   "name": "python3"
  },
  "language_info": {
   "codemirror_mode": {
    "name": "ipython",
    "version": 3
   },
   "file_extension": ".py",
   "mimetype": "text/x-python",
   "name": "python",
   "nbconvert_exporter": "python",
   "pygments_lexer": "ipython3",
   "version": "3.6.5"
  }
 },
 "nbformat": 4,
 "nbformat_minor": 2
}
