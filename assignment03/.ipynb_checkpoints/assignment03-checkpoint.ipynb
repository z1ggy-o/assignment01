{
 "cells": [
  {
   "cell_type": "markdown",
   "metadata": {},
   "source": [
    "# K-means Algorithm\n",
    "\n",
    "**Name**: ZHU GUANGYU  \n",
    "**Student ID**: 20165953  \n",
    "**Github Repo**: [assignment03](https://github.com/z1ggy-o/cv_assignment/tree/master/assignment03)  \n",
    "\n",
    "---\n",
    "\n",
    "## Clustering\n",
    "\n",
    "the goal of *clustering* is to group or partition the vectors into *k* groups or clusters, with the vectors in each group close to each other.\n",
    "\n",
    "the best clustering:\n",
    "- can find the best slustering, if the representatives are fixed;\n",
    "- can find the vest representatives, if the clustering is fixed.\n",
    "\n",
    "We use a single number to judge a choice of clustering, along with a choice of the group. We define:\n",
    "\n",
    "$$\n",
    "J^{clust}=(||x_{1}-z_{c_{1}}||^{2}+ \\cdots +||x_{N}-z_{c_{N}}||^{2})/N\n",
    "$$\n",
    "\n",
    "Here $x_{N}$ is vector, $z_{c_{N}}$ is correspond representatives. We call this value *energy* or *cost*.\n",
    "\n",
    "### When representatives fixed\n",
    "\n",
    "We assign each date vector $x_{i}$ to its nearest representatives. Since the representatives are fixed, we actually re-grouped vectors into different partitions. We have:\n",
    "$$ ||x_{i}-z_{c_{i}}|| = \\min_{j=1,\\cdots\\,k}||x_{i}-z_{c_{i}}|| $$ \n",
    "\n",
    "This gives us the minimum $J^{clust}$.\n",
    "\n",
    "### When group assignment fixed\n",
    "\n",
    "This means the element vectors of each group are fixed. We need to find the group representatives to minimize our cost $J^{clust}$.\n",
    "\n",
    "Simply, choose the average of the vectros in its group:\n",
    "$$ z_{j} = (1/|G_{j}|)\\sum_{i\\in G_{j}}x_{i}$$\n",
    "\n",
    "since this makes the sum of distance between points and its representative minimum.\n",
    "\n",
    "## *k*-means Algorithm\n",
    "\n",
    "Previous two methods can help us get the best clustering. But the two methods are depend on each other. To solve this problem, we can use *k-means algorithm*.\n",
    "\n",
    "*k-means algorithm*'s idea is simple. We repeatedly alternate between updating the group assignments, then updating the representatives. In each iteration we get a better $J^{clust}$ until the step does not change the choice.\n",
    "\n",
    "Have to be aware of is k-means algorithm **cannot** guarantee that the partition it finds minimizes $J^{clust}$. Commonly, we run it several times with different initial representatives, and choose the one with the smallest cost.\n",
    "\n",
    "There is another problem is to determin the optimal number of clusters (here is the *k*).  \n",
    "If you have given number of clusters, that's fine. If you don't, there are few methods can help us:\n",
    "- [Elbow method](https://en.wikipedia.org/wiki/Elbow_method_%28clustering%29 )\n",
    "- [The silhouette method](https://en.wikipedia.org/wiki/Silhouette_%28clustering%29)\n",
    "- [Gap statistic](http://web.stanford.edu/~hastie/Papers/gap.pdf)\n",
    "\n",
    "---\n"
   ]
  },
  {
   "cell_type": "markdown",
   "metadata": {},
   "source": [
    "## Implementation\n",
    "\n",
    "Now, let's try implement the algorithm.\n",
    "\n",
    "---\n",
    "\n",
    "First, import some packages.  \n",
    "- `numpy` for scientific computing\n",
    "- `matplotlib` for visualization\n",
    "- `math` is the python build in math packages."
   ]
  },
  {
   "cell_type": "code",
   "execution_count": 2,
   "metadata": {},
   "outputs": [],
   "source": [
    "import numpy as np\n",
    "from matplotlib import pyplot as plt\n",
    "from matplotlib import cm\n",
    "import math"
   ]
  },
  {
   "cell_type": "markdown",
   "metadata": {},
   "source": [
    "---\n",
    "\n",
    "Create a class call `KMeans` to combine the functions we need together.\n",
    "\n",
    "Here we define `__init__` function to receive 3 arguments:\n",
    "- `k` is number of clusters we want.\n",
    "- `num_points` is the number of random points we want to generate.\n",
    "- `num_dims` is the dimention of the data. Default value is 2 (point)"
   ]
  },
  {
   "cell_type": "code",
   "execution_count": 3,
   "metadata": {},
   "outputs": [],
   "source": [
    "class KMeans:\n",
    "    \"\"\"k-means algorithm\n",
    "\n",
    "    generate random 2d points,\n",
    "    group these points into k clusters\n",
    "    \"\"\"\n",
    "\n",
    "    def __init__(self, k=3, num_points=100, num_dims=2):\n",
    "        \"\"\"Constructer\n",
    "        \n",
    "        Parameters:\n",
    "            k(int): number of clusters we want\n",
    "            num_points: number of random points we want to generate\n",
    "            num_dims: the dimention of the data (for point, is 2)\n",
    "        \"\"\"\n",
    "        \n",
    "        self.k = k\n",
    "        self.num_points = num_points\n",
    "        self.num_dims = num_dims\n",
    "        self.energy_history = []\n",
    "        self.points = []\n",
    "        self.centroids = []\n",
    "        self.colors = list(cm.rainbow(np.linspace(0, 1, k)))\n",
    "        self.clusters = []\n",
    "        for _ in range(k):\n",
    "            self.clusters.append([])"
   ]
  },
  {
   "cell_type": "markdown",
   "metadata": {},
   "source": [
    "---\n",
    "\n",
    "Define some getter function at here.  \n",
    "Most of them are for visualization.\n",
    "\n",
    "> Because the code be seperated into different cells,\n",
    "> I need to add some extra codes to bind them together,\n",
    "> just after the `# for juypter notebook` command, You\n",
    "> do not need them when run this code at local."
   ]
  },
  {
   "cell_type": "code",
   "execution_count": 4,
   "metadata": {},
   "outputs": [],
   "source": [
    "    def getNumOfClusters(self):\n",
    "        return self.k\n",
    "\n",
    "    def getColors(self):\n",
    "        return self.colors\n",
    "\n",
    "    def getEnergyHistory(self):\n",
    "        return self.energy_history\n",
    "\n",
    "    def getPoints(self):\n",
    "        return self.points\n",
    "\n",
    "    def getClusters(self):\n",
    "        return self.clusters\n",
    "\n",
    "    def getCentroids(self):\n",
    "        return self.centroids\n",
    "    \n",
    "# for jupyter notebook\n",
    "KMeans.getNumOfClusters = getNumOfClusters\n",
    "KMeans.getColors = getColors\n",
    "KMeans.getEnergyHistory = getEnergyHistory\n",
    "KMeans.getPoints = getPoints\n",
    "KMeans.getClusters = getClusters\n",
    "KMeans.getCentroids = getCentroids"
   ]
  },
  {
   "cell_type": "markdown",
   "metadata": {},
   "source": [
    "---\n",
    "\n",
    "Define the trigger function.  \n",
    "\n",
    "There are different way to determine when to stop the iteration.  \n",
    "Here we run the algorithm until the energy not change.\n",
    "\n",
    "In practice, often stops the algorithm earlier, as soon as the\n",
    "improvement becomes very small.\n",
    "\n",
    "Here we seperate the trigger function and the cluster function\n",
    "to make the future modification easier."
   ]
  },
  {
   "cell_type": "code",
   "execution_count": 26,
   "metadata": {},
   "outputs": [],
   "source": [
    "    def run(self):\n",
    "        \"\"\"Run algorithm\n",
    "\n",
    "        Repeatly assign labels to points and compute new centroids.\n",
    "        Iterate until the energy of the result not change.\n",
    "        \"\"\"\n",
    "\n",
    "        energy_prev = 0\n",
    "        energy_thisTurn = self._computeEnergy()  # initialization result\n",
    "        ite = 1\n",
    "        while(energy_thisTurn != energy_prev):\n",
    "            energy_prev = energy_thisTurn\n",
    "            energy_thisTurn = self._clustering()\n",
    "            ite += 1\n",
    "            if ite == 2:  # plot the result of first iteration\n",
    "                self.plotGraph() \n",
    "            \n",
    "# for jupyter notebook\n",
    "KMeans.run = run"
   ]
  },
  {
   "cell_type": "markdown",
   "metadata": {},
   "source": [
    "About **energy** computation, like we said previously, use function:\n",
    "$$\n",
    "J^{clust}=(||x_{1}-z_{c_{1}}||^{2}+ \\cdots +||x_{N}-z_{c_{N}}||^{2})/N\n",
    "$$\n"
   ]
  },
  {
   "cell_type": "code",
   "execution_count": 6,
   "metadata": {},
   "outputs": [],
   "source": [
    "    def _computeEnergy(self):\n",
    "        \"\"\" Compute the cost of the clustering result\n",
    "\n",
    "        Return:\n",
    "            energy(float): the energy of this clustering.\n",
    "        \"\"\"\n",
    "\n",
    "        energy = 0\n",
    "        for i in range(len(self.centroids)):\n",
    "            centroid = self.centroids[i]\n",
    "            part_energy = 0\n",
    "            for point in self.clusters[i]:\n",
    "                part_energy += (\n",
    "                    math.pow(self._computeDistance(point, centroid), 2)\n",
    "                )\n",
    "            energy += part_energy\n",
    "        energy = energy / len(self.points)\n",
    "        self.energy_history.append(energy)\n",
    "\n",
    "        return energy\n",
    "    \n",
    "# for jupyter notebook\n",
    "KMeans._computeEnergy = _computeEnergy"
   ]
  },
  {
   "cell_type": "markdown",
   "metadata": {},
   "source": [
    "---\n",
    "\n",
    "Define the initialization function.\n",
    "\n",
    "This function will:\n",
    "1. Generate random points\n",
    "2. Assign label to each points\n",
    "3. Randomly move each cluster\n",
    "4. Compute centroids\n",
    "\n",
    "We seperate each step to different function."
   ]
  },
  {
   "cell_type": "code",
   "execution_count": 7,
   "metadata": {},
   "outputs": [],
   "source": [
    "    def generatePointCluster(self):\n",
    "            \"\"\"Generate random points\n",
    "\n",
    "            1. Generate random points\n",
    "            2. Randomly assign label to each points\n",
    "            3. Disperse points by cluster one more time\n",
    "            4. Compute the initial centroids\n",
    "            \"\"\"\n",
    "\n",
    "            self._generatePoints()\n",
    "            self._initialLabel()\n",
    "            self._dispersePoints()\n",
    "            self._computeCentroid()\n",
    "            \n",
    "# for jupyter notebook\n",
    "KMeans.generatePointCluster = generatePointCluster"
   ]
  },
  {
   "cell_type": "markdown",
   "metadata": {},
   "source": [
    "Depends on the `num_points` and `num_dims`, we use `numpy`'s `random`\n",
    "function to generate the random data set, then put them into a `points`\n",
    "list."
   ]
  },
  {
   "cell_type": "code",
   "execution_count": 8,
   "metadata": {},
   "outputs": [],
   "source": [
    "    def _generatePoints(self):\n",
    "            randoms = np.random.rand(self.num_points, self.num_dims)\n",
    "            for x, y in randoms:\n",
    "                point = [int(x*100), int(y*100)]\n",
    "                self.points.append(point)\n",
    "                \n",
    "# for jupyter notebook\n",
    "KMeans._generatePoints = _generatePoints"
   ]
  },
  {
   "cell_type": "markdown",
   "metadata": {},
   "source": [
    "For intialing labels, we just simply do it in order."
   ]
  },
  {
   "cell_type": "code",
   "execution_count": 9,
   "metadata": {},
   "outputs": [],
   "source": [
    "    def _initialLabel(self):\n",
    "            for i in range(len(self.points)):\n",
    "                index = i % self.k\n",
    "                self.clusters[index].append(self.points[i])\n",
    "                \n",
    "# for jupyter notebook\n",
    "KMeans._initialLabel = _initialLabel"
   ]
  },
  {
   "cell_type": "markdown",
   "metadata": {},
   "source": [
    "To make data set looks clusters, we move each cluster of a random offset."
   ]
  },
  {
   "cell_type": "code",
   "execution_count": 10,
   "metadata": {},
   "outputs": [],
   "source": [
    "    def _dispersePoints(self):\n",
    "            # move each cluster's point with random offset\n",
    "            for i in range(self.k):\n",
    "                x_off = np.random.randint(-50, 50)\n",
    "                y_off = np.random.randint(-50, 50)\n",
    "                points_moved = []\n",
    "                for x, y in self.clusters[i]:\n",
    "                    points_moved.append([x+x_off, y+y_off])\n",
    "                self.clusters[i] = points_moved\n",
    "\n",
    "            # update result back to points list\n",
    "            new_points = []\n",
    "            for i in range(self.k):\n",
    "                for point in self.clusters[i]:\n",
    "                    new_points.append(point)\n",
    "            self.points = new_points\n",
    "            \n",
    "# for jupyter notebook\n",
    "KMeans._dispersePoints = _dispersePoints"
   ]
  },
  {
   "cell_type": "markdown",
   "metadata": {},
   "source": [
    "For centroid computing, here we just use each cluster's *mean* value\n",
    "as the centroid."
   ]
  },
  {
   "cell_type": "code",
   "execution_count": 11,
   "metadata": {},
   "outputs": [],
   "source": [
    "    def _computeCentroid(self):\n",
    "            \"\"\" Compute each groups centroid then update self.controids \"\"\"\n",
    "\n",
    "            new_centroids = []\n",
    "            for cluster in self.clusters:\n",
    "                x_cod = [point[0] for point in cluster]\n",
    "                y_cod = [point[1] for point in cluster]\n",
    "\n",
    "                centroid_x = int(sum(x_cod)/len(x_cod))\n",
    "                centroid_y = int(sum(y_cod)/len(y_cod))\n",
    "                \n",
    "                new_centroids.append([centroid_x, centroid_y])\n",
    "\n",
    "            self.centroids = new_centroids\n",
    "            \n",
    "# for jupyter notebook\n",
    "KMeans._computeCentroid = _computeCentroid"
   ]
  },
  {
   "cell_type": "markdown",
   "metadata": {},
   "source": [
    "---\n",
    "\n",
    "Now, let's define the iteration part.\n",
    "\n",
    "Since at the intialization part we've already did once label assignment and centroids computation. In the iteration part, we just repeat on this order.\n",
    "\n",
    " A thing have to be aware of is, some time there will have empty\n",
    " cluster be generated. If empty cluster occurs, we just remove it.\n",
    " That means the number of clusters may not always equal to the `k`\n",
    " that we give to the `__init__` function.\n",
    " \n",
    " Label assignment and centroids computation are also seperated into\n",
    " different functions."
   ]
  },
  {
   "cell_type": "code",
   "execution_count": 12,
   "metadata": {},
   "outputs": [],
   "source": [
    "    def _clustering(self):\n",
    "        \"\"\"Run algorithm one iteration\n",
    "\n",
    "        Return:\n",
    "            energy: This iteration's result energy\n",
    "        \"\"\"\n",
    "\n",
    "        self._assignLabel()\n",
    "        # After re-grouping if there are any empty cluster, delete it from \n",
    "        # list also delete corresponding centroid.\n",
    "        for i in range(len(self.clusters)):\n",
    "            if (len(self.clusters[i]) == 0):\n",
    "                self.clusters.pop(i)\n",
    "                self.centroids.pop(i)\n",
    "                self.colors.pop(i)\n",
    "        self._computeCentroid()\n",
    "        energy = self._computeEnergy()\n",
    "\n",
    "        return energy\n",
    "    \n",
    "# for jupyter notebook\n",
    "KMeans._clustering = _clustering"
   ]
  },
  {
   "cell_type": "markdown",
   "metadata": {},
   "source": [
    "To assign label to points. Compute the distance between each point with\n",
    "all centroids, find the closest one, then move it into that centroid's\n",
    "cluster.\n",
    "\n",
    "After all computation, update the `clusters` list."
   ]
  },
  {
   "cell_type": "code",
   "execution_count": 13,
   "metadata": {},
   "outputs": [],
   "source": [
    "    def _assignLabel(self):\n",
    "        \"\"\" Assign labels to points for generating new groups\n",
    "\n",
    "        Compute distance between each point with each centroid,\n",
    "        assign it to the closest centroid's group.\n",
    "        \"\"\"\n",
    "\n",
    "        # for each point, compute the distance, get the closest centroid\n",
    "        # generate k new cluster\n",
    "        new_clusters = []\n",
    "        for _ in range(len(self.clusters)):\n",
    "            new_clusters.append([])\n",
    "\n",
    "        for point in self.points:\n",
    "            min = math.inf\n",
    "            closest = 0\n",
    "            # find the closest centroid\n",
    "            for i in range(len(self.centroids)):\n",
    "                dist = self._computeDistance(point, self.centroids[i])\n",
    "                if dist < min:\n",
    "                    min = dist\n",
    "                    closest = i\n",
    "            # put point into new group\n",
    "            new_clusters[closest].append(point)\n",
    "\n",
    "        self.clusters = new_clusters\n",
    "        \n",
    "# for jupyter notebook\n",
    "KMeans._assignLabel = _assignLabel"
   ]
  },
  {
   "cell_type": "markdown",
   "metadata": {},
   "source": [
    "For computing distances, we use `numpy`'s `linalg.norm` directly, it gives us the *Euclidean distance* between two vectors."
   ]
  },
  {
   "cell_type": "code",
   "execution_count": 14,
   "metadata": {},
   "outputs": [],
   "source": [
    "    def _computeDistance(self, x, y):\n",
    "        \"\"\"Compute the distance between two points\n",
    "\n",
    "        root of (x1-x2)^2 + (y1-y2)^2\n",
    "        \"\"\"\n",
    "\n",
    "        a = np.array(x)\n",
    "        b = np.array(y)\n",
    "\n",
    "        return np.linalg.norm(a - b)\n",
    "    \n",
    "# for jupyter notebook\n",
    "KMeans._computeDistance = _computeDistance"
   ]
  },
  {
   "cell_type": "markdown",
   "metadata": {},
   "source": [
    "---\n",
    "\n",
    "Above is the end of the algorithm part.\n",
    "\n",
    "Next, we define some functions to visualise the result."
   ]
  },
  {
   "cell_type": "code",
   "execution_count": 24,
   "metadata": {},
   "outputs": [],
   "source": [
    "# Function to plot the result of the result, both clusters and centroids\n",
    "def plotGraph(self):\n",
    "    \"\"\"Plot current clustering result\"\"\"\n",
    "\n",
    "    plt.title('k-means')\n",
    "    plt.xlabel('X')\n",
    "    plt.ylabel('Y')\n",
    "\n",
    "    for i in range(len(self.clusters)):\n",
    "        for x, y in self.clusters[i]:\n",
    "            plt.scatter(x, y, marker='.', color=self.colors[i])\n",
    "        x_centroid = self.centroids[i][0]\n",
    "        y_centroid = self.centroids[i][1]\n",
    "        plt.scatter(\n",
    "            x_centroid,\n",
    "            y_centroid,\n",
    "            marker='s',\n",
    "            s=100,\n",
    "            color=self.colors[i])\n",
    "    plt.show()\n",
    "# for jupyter notebook\n",
    "KMeans.plotGraph = plotGraph\n",
    "\n",
    "\n",
    "# Input data plotting\n",
    "def plotInputData(data):\n",
    "    \"\"\"Plot the randomly generated points from KMeans\n",
    "\n",
    "    Parameter:\n",
    "        data(list): a list of 2d vectors\n",
    "    \"\"\"\n",
    "\n",
    "    plt.title('Input Data')\n",
    "    plt.xlabel('X')\n",
    "    plt.ylabel('Y')\n",
    "\n",
    "    for x, y in data:\n",
    "        plt.scatter(x, y, color='black', marker='.')\n",
    "    plt.show()\n",
    "\n",
    "\n",
    "# Plot the labeled clusters\n",
    "def plotLabel(kmeans):\n",
    "    \"\"\"Plot initial clusters\"\"\"\n",
    "\n",
    "    plt.title('Label')\n",
    "    plt.xlabel('X')\n",
    "    plt.ylabel('Y')\n",
    "\n",
    "    for i in range(kmeans.getNumOfClusters()):\n",
    "        clusters = kmeans.getClusters()\n",
    "        colors = kmeans.getColors()\n",
    "        for x, y in clusters[i]:\n",
    "            plt.scatter(x, y, marker='.', color=colors[i])\n",
    "    plt.show()\n",
    "\n",
    "    \n",
    "# Plot each iteration's energy\n",
    "def plotEnergy(data):\n",
    "    \"\"\"Plot energy history\n",
    "\n",
    "    Parameter:\n",
    "        data(list): a list of energy\n",
    "    \"\"\"\n",
    "\n",
    "    plt.rc('text', usetex=True)\n",
    "    plt.rc('font', family='serif')\n",
    "\n",
    "    plt.title('Energy Variation')\n",
    "    plt.xlabel('Iteration')\n",
    "    plt.ylabel(r'$J^{clust}$')\n",
    "    plt.xticks(range(len(data)+1))\n",
    "\n",
    "    ite = [i for i in np.arange(1, len(data)+1, 1)]\n",
    "    plt.plot(ite, data, 'o-', color='b')\n",
    "    plt.show()"
   ]
  },
  {
   "cell_type": "markdown",
   "metadata": {},
   "source": [
    "## Result\n",
    "\n",
    "We have done all the implementation, let's check the result togher.\n",
    "\n",
    "First try `k=3, num_points=100`"
   ]
  },
  {
   "cell_type": "code",
   "execution_count": 16,
   "metadata": {},
   "outputs": [
    {
     "name": "stdout",
     "output_type": "stream",
     "text": [
      "Input Data:\n"
     ]
    },
    {
     "data": {
      "image/png": "[encoded data removed]",
      "text/plain": [
       "<Figure size 432x288 with 1 Axes>"
      ]
     },
     "metadata": {},
     "output_type": "display_data"
    }
   ],
   "source": [
    "if __name__ == '__main__':\n",
    "    kmeans_1 = KMeans(3, 100)\n",
    "    kmeans_1.generatePointCluster()\n",
    "    print('Input Data:')\n",
    "    plotInputData(kmeans_1.getPoints())  # input data\n",
    "   "
   ]
  },
  {
   "cell_type": "markdown",
   "metadata": {},
   "source": [
    "Before label, all k clusters are empty.\n",
    "\n",
    "---"
   ]
  },
  {
   "cell_type": "code",
   "execution_count": 22,
   "metadata": {},
   "outputs": [
    {
     "name": "stdout",
     "output_type": "stream",
     "text": [
      "\n",
      "Initial Label:\n"
     ]
    },
    {
     "data": {
      "image/png": "[encoded data removed]",
      "text/plain": [
       "<Figure size 432x288 with 1 Axes>"
      ]
     },
     "metadata": {},
     "output_type": "display_data"
    }
   ],
   "source": [
    "    print('\\nInitial Label:')\n",
    "    plotLabel(kmeans_1)  # initial label"
   ]
  },
  {
   "cell_type": "markdown",
   "metadata": {},
   "source": [
    "Randomly labeled the points.  \n",
    "We can see from the picture, different color points are mixed together."
   ]
  },
  {
   "cell_type": "code",
   "execution_count": 25,
   "metadata": {},
   "outputs": [
    {
     "name": "stdout",
     "output_type": "stream",
     "text": [
      "\n",
      "Initial Centroids:\n"
     ]
    },
    {
     "data": {
      "image/png": "[encoded data removed]",
      "text/plain": [
       "<Figure size 432x288 with 1 Axes>"
      ]
     },
     "metadata": {},
     "output_type": "display_data"
    }
   ],
   "source": [
    "    print('\\nInitial Centroids:')\n",
    "    kmeans_1.plotGraph()  # initial centroids"
   ]
  },
  {
   "cell_type": "markdown",
   "metadata": {},
   "source": [
    "Compute the centroids depends on the initial label result.\n",
    "\n",
    "Because the labelling is done randomly, the centroids have no spectial meaning.  \n",
    "In this picture, we see two centroids even overlapped."
   ]
  },
  {
   "cell_type": "code",
   "execution_count": 28,
   "metadata": {},
   "outputs": [
    {
     "data": {
      "image/png": "[encoded data removed]",
      "text/plain": [
       "<Figure size 432x288 with 1 Axes>"
      ]
     },
     "metadata": {},
     "output_type": "display_data"
    }
   ],
   "source": [
    "    kmeans_1.run()"
   ]
  },
  {
   "cell_type": "markdown",
   "metadata": {},
   "source": [
    "After first iteration, we can see from the graph that the clustering result is improved a lot. The three clusters were basically seperated."
   ]
  },
  {
   "cell_type": "code",
   "execution_count": 29,
   "metadata": {},
   "outputs": [
    {
     "name": "stdout",
     "output_type": "stream",
     "text": [
      "\n",
      "Final Label:\n"
     ]
    },
    {
     "data": {
      "image/png": "[encoded data removed]",
      "text/plain": [
       "<Figure size 432x288 with 1 Axes>"
      ]
     },
     "metadata": {},
     "output_type": "display_data"
    },
    {
     "name": "stdout",
     "output_type": "stream",
     "text": [
      "\n",
      "Final Centroids:\n"
     ]
    },
    {
     "data": {
      "image/png": "[encoded data removed]",
      "text/plain": [
       "<Figure size 432x288 with 1 Axes>"
      ]
     },
     "metadata": {},
     "output_type": "display_data"
    }
   ],
   "source": [
    "    print('\\nFinal Label:')\n",
    "    plotLabel(kmeans_1)  # final label   \n",
    "    print('\\nFinal Centroids:')\n",
    "    plotGraph(kmeans_1)  # final result"
   ]
  },
  {
   "cell_type": "markdown",
   "metadata": {},
   "source": [
    "Now we get the final result, basically all points find the centroid that closest with them."
   ]
  },
  {
   "cell_type": "code",
   "execution_count": 30,
   "metadata": {},
   "outputs": [
    {
     "name": "stdout",
     "output_type": "stream",
     "text": [
      "\n",
      "Energy change:\n"
     ]
    },
    {
     "data": {
      "image/png": "[encoded data removed]",
      "text/plain": [
       "<Figure size 432x288 with 1 Axes>"
      ]
     },
     "metadata": {},
     "output_type": "display_data"
    }
   ],
   "source": [
    "    print('\\nEnergy change:')\n",
    "    plotEnergy(kmeans_1.getEnergyHistory())"
   ]
  },
  {
   "cell_type": "markdown",
   "metadata": {},
   "source": [
    "From the energy variation graph we can find, after third iteration, the energy value no longer change much.\n",
    "\n",
    "This also coincides with our label graph, the first iteration result and the final result just have little difference."
   ]
  },
  {
   "cell_type": "markdown",
   "metadata": {},
   "source": [
    "---\n",
    "\n",
    "Let's try some other inputs:\n",
    "`k` = 5, `num_points` = 300"
   ]
  },
  {
   "cell_type": "code",
   "execution_count": 33,
   "metadata": {},
   "outputs": [
    {
     "name": "stdout",
     "output_type": "stream",
     "text": [
      "Input Data:\n"
     ]
    },
    {
     "data": {
      "image/png": "[encoded data removed]",
      "text/plain": [
       "<Figure size 432x288 with 1 Axes>"
      ]
     },
     "metadata": {},
     "output_type": "display_data"
    },
    {
     "name": "stdout",
     "output_type": "stream",
     "text": [
      "\n",
      "Initial Label:\n"
     ]
    },
    {
     "data": {
      "image/png": "[encoded data removed]",
      "text/plain": [
       "<Figure size 432x288 with 1 Axes>"
      ]
     },
     "metadata": {},
     "output_type": "display_data"
    },
    {
     "name": "stdout",
     "output_type": "stream",
     "text": [
      "\n",
      "Initial Centroids:\n"
     ]
    },
    {
     "data": {
      "image/png": "[encoded data removed]",
      "text/plain": [
       "<Figure size 432x288 with 1 Axes>"
      ]
     },
     "metadata": {},
     "output_type": "display_data"
    },
    {
     "name": "stdout",
     "output_type": "stream",
     "text": [
      "First iteration:\n"
     ]
    },
    {
     "data": {
      "image/png": "[encoded data removed]",
      "text/plain": [
       "<Figure size 432x288 with 1 Axes>"
      ]
     },
     "metadata": {},
     "output_type": "display_data"
    },
    {
     "name": "stdout",
     "output_type": "stream",
     "text": [
      "\n",
      "Final Label:\n"
     ]
    },
    {
     "data": {
      "image/png": "[encoded data removed]",
      "text/plain": [
       "<Figure size 432x288 with 1 Axes>"
      ]
     },
     "metadata": {},
     "output_type": "display_data"
    },
    {
     "name": "stdout",
     "output_type": "stream",
     "text": [
      "\n",
      "Final Centroids:\n"
     ]
    },
    {
     "data": {
      "image/png": "[encoded data removed]",
      "text/plain": [
       "<Figure size 432x288 with 1 Axes>"
      ]
     },
     "metadata": {},
     "output_type": "display_data"
    },
    {
     "name": "stdout",
     "output_type": "stream",
     "text": [
      "\n",
      "Energy change:\n"
     ]
    },
    {
     "data": {
      "image/png": "[encoded data removed]",
      "text/plain": [
       "<Figure size 432x288 with 1 Axes>"
      ]
     },
     "metadata": {},
     "output_type": "display_data"
    }
   ],
   "source": [
    "kmeans_2 = KMeans(5, 300)\n",
    "kmeans_2.generatePointCluster()\n",
    "print('Input Data:')\n",
    "plotInputData(kmeans_2.getPoints())  # input data\n",
    "print('\\nInitial Label:')\n",
    "plotLabel(kmeans_2)  # initial label\n",
    "print('\\nInitial Centroids:')\n",
    "plotGraph(kmeans_2)  # initial centroids\n",
    "\n",
    "print('First iteration:')\n",
    "kmeans_2.run()\n",
    "\n",
    "print('\\nFinal Label:')\n",
    "plotLabel(kmeans_2)  # final label\n",
    "print('\\nFinal Centroids:')\n",
    "plotGraph(kmeans_2)  # final result\n",
    "print('\\nEnergy change:')\n",
    "plotEnergy(kmeans_2.getEnergyHistory())"
   ]
  },
  {
   "cell_type": "markdown",
   "metadata": {},
   "source": [
    "From above two examples, we can find the energy of each iteration is going down, and at some point the value won't\n",
    "change again.\n",
    "\n",
    "After some point, the improvement becomes very small. When deal with big amount of data, instead interate until the energy not change, we better set a value space, once the improvement into that space we can stop the algorithm."
   ]
  }
 ],
 "metadata": {
  "kernelspec": {
   "display_name": "Python 3",
   "language": "python",
   "name": "python3"
  },
  "language_info": {
   "codemirror_mode": {
    "name": "ipython",
    "version": 3
   },
   "file_extension": ".py",
   "mimetype": "text/x-python",
   "name": "python",
   "nbconvert_exporter": "python",
   "pygments_lexer": "ipython3",
   "version": "3.6.5"
  }
 },
 "nbformat": 4,
 "nbformat_minor": 2
}
