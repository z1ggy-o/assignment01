{
 "cells": [
  {
   "cell_type": "markdown",
   "metadata": {},
   "source": [
    "# K-means Algorithm\n",
    "\n",
    "**Name**: ZHU GUANGYU  \n",
    "**Student ID**: 20165953  \n",
    "**Github Repo**: [assignment03]()  \n",
    "\n",
    "---\n",
    "\n",
    "## Clustering\n",
    "\n",
    "the goal of *clustering* is to group or partition the vectors into *k* groups or clusters, with the vectors in each group close to each other.\n",
    "\n",
    "the best clustering:\n",
    "- can find the best slustering, if the representatives are fixed;\n",
    "- can find the vest representatives, if the clustering is fixed.\n",
    "\n",
    "We use a single number to judge a choice of clustering, along with a choice of the group. We define:\n",
    "\n",
    "$$\n",
    "J^{clust}=(||x_{1}-z_{c_{1}}||^{2}+ \\cdots +||x_{N}-z_{c_{N}}||^{2})/N\n",
    "$$\n",
    "\n",
    "Here $x_{N}$ is vector, $z_{c_{N}}$ is correspond representatives. We call this value *energy* or *cost*.\n",
    "\n",
    "### When representatives fixed\n",
    "\n",
    "We assign each date vector $x_{i}$ to its nearest representatives. Since the representatives are fixed, we actually re-grouped vectors into different partitions. We have:\n",
    "$$ ||x_{i}-z_{c_{i}}|| = \\min_{j=1,\\cdots\\,k}||x_{i}-z_{c_{i}}|| $$ \n",
    "\n",
    "This gives us the minimum $J^{clust}$.\n",
    "\n",
    "### When group assignment fixed\n",
    "\n",
    "This means the element vectors of each group are fixed. We need to find the group representatives to minimize our cost $J^{clust}$.\n",
    "\n",
    "Simply, choose the average of the vectros in its group:\n",
    "$$ z_{j} = (1/|G_{j}|)\\sum_{i\\in G_{j}}x_{i}$$\n",
    "\n",
    "since this makes the sum of distance between points and its representative minimum.\n",
    "\n",
    "## *k*-means Algorithm\n",
    "\n",
    "Previous two methods can help us get the best clustering. But the two methods are depend on each other. To solve this problem, we can use *k-means algorithm*.\n",
    "\n",
    "*k-means algorithm*'s idea is simple. We repeatedly alternate between updating the group assignments, then updating the representatives. In each iteration we get a better $J^{clust}$ until the step does not change the choice.\n",
    "\n",
    "Have to be aware of is k-means algorithm **cannot** guarantee that the partition it finds minimizes $J^{clust}$. Commonly, we run it several times with different initial representatives, and choose the one with the smallest cost.\n",
    "\n",
    "There is another problem is to determin the optimal number of clusters (here is the *k*).  \n",
    "If you have given number of clusters, that's fine. If you don't, there are few methods can help us:\n",
    "- [Elbow method](https://en.wikipedia.org/wiki/Elbow_method_%28clustering%29 )\n",
    "- [The silhouette method](https://en.wikipedia.org/wiki/Silhouette_%28clustering%29)\n",
    "- [Gap statistic](http://web.stanford.edu/~hastie/Papers/gap.pdf)"
   ]
  },
  {
   "cell_type": "code",
   "execution_count": null,
   "metadata": {},
   "outputs": [],
   "source": []
  }
 ],
 "metadata": {
  "kernelspec": {
   "display_name": "Python 3",
   "language": "python",
   "name": "python3"
  },
  "language_info": {
   "codemirror_mode": {
    "name": "ipython",
    "version": 3
   },
   "file_extension": ".py",
   "mimetype": "text/x-python",
   "name": "python",
   "nbconvert_exporter": "python",
   "pygments_lexer": "ipython3",
   "version": "3.6.5"
  }
 },
 "nbformat": 4,
 "nbformat_minor": 2
}
