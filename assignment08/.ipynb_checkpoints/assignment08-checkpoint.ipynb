{
 "cells": [
  {
   "cell_type": "markdown",
   "metadata": {},
   "source": [
    "# Binary Classification\n",
    "\n",
    "**Name**: ZHU GUANGYU  \n",
    "**Student ID**: 20165953  \n",
    "**Github Repo**: [assignment08](https://github.com/z1ggy-o/cv_assignment/tree/master/assignment08)  \n",
    "\n",
    "---\n",
    "\n",
    "In a *classification problem*, the outcome  takes on only a finit number of values. In the simplest case, outcome has only two values, for example TRUE or FALSE. This is called the *binary classification problem*.\n",
    "\n",
    "As in real-valued data fitting, we assume that an approxomate relation ship of the form $y \\approx f(x)$ holds, where $f: R^{n} \\rightarrow {-1, +1}$. The model $\\hat{f}$ is called a *classifier*.\n",
    "\n",
    "For a given data point x, y with predicted outcome $\\hat{y} = \\hat{f}(x)$, there are four possibilities:\n",
    "\n",
    "- *True positive*: $y = +1$ and $\\hat{y} = +1$.\n",
    "- *True negative*: $y = -1$ and $\\hat{y} = -1$.\n",
    "- *False positive*: $y = -1$ and $\\hat{y} = +1$.\n",
    "- *False negative*: $y = +1$ and $\\hat{y} = -1$.\n",
    "\n",
    "## Least squares classfier\n",
    "\n",
    "Least squares is a very sople method for classification.\n",
    "\n",
    "First, carry out ordinary real-valued least squares fitting of the outcome, ignoring for the moment that the outcome $y$ takes on only the values $-1 and +1$. We choose *basis functions* $f_{1},\\cdots,f_{p}$, and the *perameters* $\\theta_{1},\\cdots,\\theta_{p}$ so as to <u>minimize the sum squared error</u>\n",
    "\n",
    "$$(y^{1}-\\tilde{f}(x^{1}))^{2}+\\cdots+(y^{N}-\\tilde{f}(x^{N}))^{2},$$\n",
    "\n",
    "where $\\tilde{f} = \\theta_{1}f_{1}(x)+\\cdots\\theta_{p}f_{p}(x)$. The function $\\tilde{f}$ is the least squares fit over our data set, it is a number.\n",
    "\n",
    "Our final classifier is\n",
    "\n",
    "$$\\hat{f}(x) = sign(\\tilde{f}(x)),$$\n",
    "\n",
    "We call this classifier the *least squares classifier*.\n",
    "\n",
    "## Use least squares classfier to do handwritten digit classification\n",
    "\n",
    "Here, we define our sign function as\n",
    "\n",
    "$$ sign(x)=\\left\\{\n",
    "\\begin{aligned}\n",
    "+1 & & if  x \\geq 0 \\\\\n",
    "-1 & & if  x < 0 \n",
    "\\end{aligned}\n",
    "\\right.\n",
    "$$\n",
    "\n",
    "and we have basis function(feature function):\n",
    "\n",
    "$$f_{i}(x) = x_{i}$$\n",
    "\n",
    "The partitioning function is \n",
    "\n",
    "$$\\tilde{f}(x,\\theta) = \\theta_{1}f_{1}(x) + \\theta_{2}f_{2}(x) + \\cdots + \\theta_{p}f_{p}(x)$$\n",
    "\n",
    "Change it to matrix form, we get $f \\cdot \\theta = y$. By *pseudo inverse* $(A^{T}A)^{-1}A$ we can find $\\theta$.\n",
    "\n",
    "---\n",
    "\n",
    "### Read data sets\n",
    "\n",
    "First, let import the data set. We have two data sets, one for training, one for testing. Each element is a image that has height 28 and width 28 pixels."
   ]
  },
  {
   "cell_type": "code",
   "execution_count": 1,
   "metadata": {},
   "outputs": [],
   "source": [
    "import matplotlib.pyplot as plt\n",
    "import numpy as np\n",
    "\n",
    "file_data_train = \"mnist_train.csv\"\n",
    "file_data_test  = \"mnist_test.csv\"\n",
    "\n",
    "h_data_train    = open(file_data_train, \"r\")\n",
    "h_data_test     = open(file_data_test, \"r\")\n",
    "\n",
    "data_train      = h_data_train.readlines()\n",
    "data_test       = h_data_test.readlines()\n",
    "\n",
    "h_data_train.close()\n",
    "h_data_test.close()\n",
    "\n",
    "size_row    = 28    # height of the image\n",
    "size_col    = 28    # width of the image\n",
    "\n",
    "num_train   = len(data_train)   # number of training images\n",
    "num_test    = len(data_test)    # number of testing images\n",
    "\n",
    "# number of training images: 60000\n",
    "# number of testing images: 10000"
   ]
  },
  {
   "cell_type": "markdown",
   "metadata": {},
   "source": [
    "To reduce the bias, we need to normalize the data."
   ]
  },
  {
   "cell_type": "code",
   "execution_count": 2,
   "metadata": {},
   "outputs": [],
   "source": [
    "#\n",
    "# normalize the values of the input data to be [0, 1]\n",
    "#\n",
    "def normalize(data):\n",
    "\n",
    "    data_normalized = (data - min(data)) / (max(data) - min(data))\n",
    "\n",
    "    return(data_normalized)"
   ]
  },
  {
   "cell_type": "markdown",
   "metadata": {},
   "source": [
    "Normalize each pixel, and put image data into a 764*num_image matrix."
   ]
  },
  {
   "cell_type": "code",
   "execution_count": 3,
   "metadata": {},
   "outputs": [],
   "source": [
    "#\n",
    "# make a matrix each column of which represents an images in a vector form \n",
    "#\n",
    "list_image_train    = np.empty((size_row * size_col, num_train), dtype=float)  # 764 * num_trian matrix\n",
    "list_label_train    = np.empty(num_train, dtype=int)\n",
    "\n",
    "list_image_test     = np.empty((size_row * size_col, num_test), dtype=float)\n",
    "list_label_test     = np.empty(num_test, dtype=int)\n",
    "\n",
    "count = 0\n",
    "\n",
    "for line in data_train:\n",
    "\n",
    "    line_data   = line.split(',')\n",
    "    label       = line_data[0]\n",
    "    im_vector   = np.asfarray(line_data[1:])  # convert to float type\n",
    "    im_vector   = normalize(im_vector)\n",
    "\n",
    "    list_label_train[count]     = label\n",
    "    list_image_train[:, count]  = im_vector  # each column is a image\n",
    "\n",
    "    count += 1\n",
    "\n",
    "count = 0\n",
    "\n",
    "for line in data_test:\n",
    "\n",
    "    line_data   = line.split(',')\n",
    "    label       = line_data[0]\n",
    "    im_vector   = np.asfarray(line_data[1:])\n",
    "    im_vector   = normalize(im_vector)\n",
    "\n",
    "    list_label_test[count]      = label\n",
    "    list_image_test[:, count]   = im_vector    \n",
    "\n",
    "    count += 1"
   ]
  },
  {
   "cell_type": "markdown",
   "metadata": {},
   "source": [
    "### Define feature function, then apply it on data\n"
   ]
  },
  {
   "cell_type": "code",
   "execution_count": 4,
   "metadata": {},
   "outputs": [],
   "source": [
    "def f_i(x, i):\n",
    "    return x[i]\n",
    "\n",
    "\n",
    "def create_A(func, data, num_data, size):\n",
    "    \"\"\"Build f(x) matrix\n",
    "    \n",
    "    Apply feature function to each data image,\n",
    "    get a matrix\n",
    "    \"\"\"\n",
    "    \n",
    "    A = []\n",
    "    \n",
    "    for i in range(num_data):\n",
    "        img = data[:, i]  # ith image(column)\n",
    "        row = [func(img, j) for j in range(size)]\n",
    "        A.append(row)\n",
    "    \n",
    "    return np.array(A)\n",
    "            \n",
    "A = create_A(f_i, list_image_train, num_train, size_row*size_col)"
   ]
  },
  {
   "cell_type": "markdown",
   "metadata": {},
   "source": [
    "### Compute $\\theta$\n",
    "\n",
    "We have $A\\theta = y$, while $A$ is the matrix of feature function apply on data set, $\\theta$ is perameters, and $y$ is the label.\n",
    "\n",
    "Because we just want to separate 0 and other numbers, we need to process label $y$ which gives 0's image $+1$ and other number's image $-1$.\n",
    "\n",
    "Through pseudo inverse $(A^{T}A)^{-1}A$ we can compute the $\\theta$. Here we use `np.linalg.pinv` to get $A^{-1}$."
   ]
  },
  {
   "cell_type": "code",
   "execution_count": 5,
   "metadata": {},
   "outputs": [],
   "source": [
    "# process label array\n",
    "def process_label(labels):\n",
    "    result = []\n",
    "    for label in labels:\n",
    "        if label == 0:\n",
    "            result.append(1)\n",
    "        else:\n",
    "            result.append(-1)\n",
    "    \n",
    "    return result\n",
    "\n",
    "        \n",
    "def theta(A, y):\n",
    "    A_inv = np.linalg.pinv(A)\n",
    "    theta = np.inner(A_inv, y)\n",
    "    \n",
    "    return theta\n",
    "\n",
    "label_train = process_label(list_label_train)\n",
    "theta_arr = theta(A, label_train)"
   ]
  },
  {
   "cell_type": "markdown",
   "metadata": {},
   "source": [
    "### Plot $\\theta$ graph"
   ]
  },
  {
   "cell_type": "code",
   "execution_count": 6,
   "metadata": {},
   "outputs": [
    {
     "data": {
      "image/png": "[encoded data removed]",
      "text/plain": [
       "<Figure size 432x288 with 1 Axes>"
      ]
     },
     "metadata": {},
     "output_type": "display_data"
    }
   ],
   "source": [
    "theta_matrix = theta_arr.reshape((28, 28))\n",
    "\n",
    "plt.title(\"Theta Graph\")\n",
    "plt.imshow(theta_matrix)\n",
    "plt.axis(\"off\")\n",
    "plt.show()"
   ]
  },
  {
   "cell_type": "markdown",
   "metadata": {},
   "source": [
    "### Define classifier $\\hat{f}(x)$\n",
    "\n",
    "We can define $\\tilde{ｆ}$ since we have got $\\theta$. \n",
    "\n",
    "Now we can create the classifier $\\hat{f}(x) = sign(\\tilde{f}(x)),$ while \n",
    "$$ sign(x)=\\left\\{\n",
    "\\begin{aligned}\n",
    "+1 & & if  x \\geq 0 \\\\\n",
    "-1 & & if  x < 0 \n",
    "\\end{aligned}\n",
    "\\right.\n",
    "$$"
   ]
  },
  {
   "cell_type": "code",
   "execution_count": 7,
   "metadata": {},
   "outputs": [],
   "source": [
    "def sign_func(x):\n",
    "    if x >= 0:\n",
    "        return 1\n",
    "    else:\n",
    "        return -1\n",
    "    \n",
    "\n",
    "def lsf(f_i, data, num_data, size, theta):\n",
    "    # least squares fit\n",
    "    A = create_A(f_i, data, num_data, size)\n",
    "    return np.inner(data.T, theta)\n",
    "\n",
    "\n",
    "def classifier(f_i, data, num_data, size, theta, sign_func, lsf):\n",
    "    f_tilde = lsf(f_i, data, num_data, size, theta)\n",
    "    f_hat = list(map(sign_func, f_tilde))\n",
    "    \n",
    "    return np.array(f_hat)"
   ]
  },
  {
   "cell_type": "markdown",
   "metadata": {},
   "source": [
    "### Prediction of testing set\n",
    "\n",
    "Put testing data set into our classifier we can get the prediction value."
   ]
  },
  {
   "cell_type": "code",
   "execution_count": 8,
   "metadata": {},
   "outputs": [],
   "source": [
    "prediction = classifier(f_i, list_image_test, num_test, size_row*size_col, theta_arr, sign_func, lsf)"
   ]
  },
  {
   "cell_type": "markdown",
   "metadata": {},
   "source": [
    "### Count predicted outcome: TP, FP, TN, and FN\n",
    "\n",
    "We have already got the prediction by our classifier $\\hat{f}(x)$, now let's compare it with the label of testing data set to check how it works.\n",
    "\n",
    "The outcome are\n",
    "\n",
    "- *True positive*: $y = +1$ and $\\hat{y} = +1$.\n",
    "- *True negative*: $y = -1$ and $\\hat{y} = -1$.\n",
    "- *False positive*: $y = -1$ and $\\hat{y} = +1$.\n",
    "- *False negative*: $y = +1$ and $\\hat{y} = -1$.\n",
    "\n",
    "Here, we still need to process the testing data label."
   ]
  },
  {
   "cell_type": "code",
   "execution_count": 9,
   "metadata": {},
   "outputs": [],
   "source": [
    "def outcomes(label, prediction):\n",
    "    \"\"\"count outcomes of prediction\n",
    "    \n",
    "    Input:\n",
    "        label(array): correct labels\n",
    "        prediction(array): prediction of classifier\n",
    "    Return:\n",
    "        A dictionary contains the indices of each outcome type\n",
    "        tp: true positive\n",
    "        tn: true negative\n",
    "        fp: false positive\n",
    "        fn: flase negative\n",
    "    \"\"\"\n",
    "    \n",
    "    length = len(label)\n",
    "    tp = []  \n",
    "    fp = []\n",
    "    tn = []\n",
    "    fn = []\n",
    "    \n",
    "    for i in range(length):\n",
    "        if label[i] == 1 and prediction[i] == 1:\n",
    "            tp.append(i)\n",
    "        elif label[i] == 1 and prediction[i] == -1:\n",
    "            fn.append(i)\n",
    "        elif label[i] == -1 and prediction[i] == -1:\n",
    "            tn.append(i)\n",
    "        else:\n",
    "            fp.append(i)\n",
    "            \n",
    "    outcome = {'TP': tp,\n",
    "               'FP': fp,\n",
    "               'TN': tn,\n",
    "               'FN': fn}\n",
    "    \n",
    "    return outcome\n",
    "\n",
    "\n",
    "label_test = process_label(list_label_test)\n",
    "outcome_dic = outcomes(label_test, prediction)"
   ]
  },
  {
   "cell_type": "markdown",
   "metadata": {},
   "source": [
    "#### Print out evaluation table."
   ]
  },
  {
   "cell_type": "code",
   "execution_count": 10,
   "metadata": {},
   "outputs": [
    {
     "name": "stdout",
     "output_type": "stream",
     "text": [
      " Evaluation Value Table\n",
      "+-----+----+------+----+\n",
      "|  TP | FP |  TN  | FN |\n",
      "+-----+----+------+----+\n",
      "| 917 | 61 | 8959 | 63 |\n",
      "+-----+----+------+----+\n"
     ]
    }
   ],
   "source": [
    "from prettytable import PrettyTable\n",
    "\n",
    "table = PrettyTable()\n",
    "for i, j in outcome_dic.items():\n",
    "    table.add_column(i, [len(j)])\n",
    "\n",
    "print(' Evaluation Value Table')    \n",
    "print(table)"
   ]
  },
  {
   "cell_type": "markdown",
   "metadata": {},
   "source": [
    "### Plot average images"
   ]
  },
  {
   "cell_type": "code",
   "execution_count": 16,
   "metadata": {},
   "outputs": [],
   "source": [
    "def average_img(data, indices):\n",
    "    # compute the average value of one outcome type\n",
    "    \n",
    "    size = 28 * 28\n",
    "    sum_img = np.zeros(size)\n",
    "    \n",
    "    for index in indices:\n",
    "        img = data[:, index]\n",
    "        sum_img += img\n",
    "    \n",
    "    num_img = len(indices)\n",
    "    \n",
    "    return sum_img / num_img\n",
    "\n",
    "\n",
    "def plot_graph(img, title):\n",
    "    plt.title(title)\n",
    "    plt.imshow(img, cmap='gray')\n",
    "    plt.axis('off')\n",
    "    plt.show()\n"
   ]
  },
  {
   "cell_type": "markdown",
   "metadata": {},
   "source": [
    "#### True positive"
   ]
  },
  {
   "cell_type": "code",
   "execution_count": 15,
   "metadata": {},
   "outputs": [
    {
     "data": {
      "image/png": "[encoded data removed]",
      "text/plain": [
       "<Figure size 432x288 with 1 Axes>"
      ]
     },
     "metadata": {},
     "output_type": "display_data"
    }
   ],
   "source": [
    "# True positive\n",
    "tp = average_img(list_image_test, outcome_dic['TP'])\n",
    "tp_matrix = tp.reshape((28, 28))\n",
    "\n",
    "plot_graph(tp_matrix, 'Average Image of True Positive')"
   ]
  },
  {
   "cell_type": "markdown",
   "metadata": {},
   "source": [
    "#### False Positive"
   ]
  },
  {
   "cell_type": "code",
   "execution_count": 12,
   "metadata": {},
   "outputs": [
    {
     "data": {
      "image/png": "[encoded data removed]",
      "text/plain": [
       "<Figure size 432x288 with 1 Axes>"
      ]
     },
     "metadata": {},
     "output_type": "display_data"
    }
   ],
   "source": [
    "# False positive\n",
    "fp = average_img(list_image_test, outcome_dic['FP'])\n",
    "fp_matrix = fp.reshape((28, 28))\n",
    "\n",
    "plot_graph(fp_matrix, 'Average Image of False Positive')"
   ]
  },
  {
   "cell_type": "markdown",
   "metadata": {},
   "source": [
    "#### True Negative"
   ]
  },
  {
   "cell_type": "code",
   "execution_count": 13,
   "metadata": {},
   "outputs": [
    {
     "data": {
      "image/png": "[encoded data removed]",
      "text/plain": [
       "<Figure size 432x288 with 1 Axes>"
      ]
     },
     "metadata": {},
     "output_type": "display_data"
    }
   ],
   "source": [
    "# True negative\n",
    "tn = average_img(list_image_test, outcome_dic['TN'])\n",
    "tn_matrix = tn.reshape((28, 28))\n",
    "\n",
    "plot_graph(tn_matrix, 'Average Image of True Negative')"
   ]
  },
  {
   "cell_type": "markdown",
   "metadata": {},
   "source": [
    "#### False Negative"
   ]
  },
  {
   "cell_type": "code",
   "execution_count": 14,
   "metadata": {},
   "outputs": [
    {
     "data": {
      "image/png": "[encoded data removed]",
      "text/plain": [
       "<Figure size 432x288 with 1 Axes>"
      ]
     },
     "metadata": {},
     "output_type": "display_data"
    }
   ],
   "source": [
    "# False negative\n",
    "fn = average_img(list_image_test, outcome_dic['FN'])\n",
    "fn_matrix = fn.reshape((28, 28))\n",
    "\n",
    "plot_graph(fn_matrix, 'Average Image of False Negative')"
   ]
  },
  {
   "cell_type": "markdown",
   "metadata": {},
   "source": [
    "From above images we can tell, both *True Positive* and *False Negative*'s images are clear zero images.\n",
    "\n",
    "*True negative* mixed number 1 to 9, so the image is blurred."
   ]
  }
 ],
 "metadata": {
  "kernelspec": {
   "display_name": "Python 3",
   "language": "python",
   "name": "python3"
  },
  "language_info": {
   "codemirror_mode": {
    "name": "ipython",
    "version": 3
   },
   "file_extension": ".py",
   "mimetype": "text/x-python",
   "name": "python",
   "nbconvert_exporter": "python",
   "pygments_lexer": "ipython3",
   "version": "3.6.5"
  }
 },
 "nbformat": 4,
 "nbformat_minor": 2
}
