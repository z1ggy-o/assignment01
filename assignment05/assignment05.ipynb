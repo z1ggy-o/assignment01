{
 "cells": [
  {
   "cell_type": "markdown",
   "metadata": {},
   "source": [
    "# Convolution\n",
    "\n",
    "**Name**: ZHU GUANGYU  \n",
    "**Student ID**: 20165953  \n",
    "**Github Repo**: [assignment05](https://github.com/z1ggy-o/cv_assignment/tree/master/assignment05)  \n",
    "\n",
    "---\n",
    "\n",
    "Convolution is an important operations in image processing, and usually \n",
    "is used for blurring, sharpening, embossing, edge detection.\n",
    "\n",
    "An image actually is an array of pixel values. If we regart it as a continuous function of spatial coodinates, this function is the brightness of light impinging onto the camera sensor. Partial derivatives of this continuous function can be used to measure the edges of objects in the image.\n",
    "\n",
    "## Edges\n",
    "\n",
    "Since an edge is an abrupt change of image intensity, we change find the abrupt by computing the derivatives of an image.\n",
    "\n",
    "Let's use *x* to represent horizontal, *y* to represent vertical. The *partial derivative* of function $f(x,y)$ is\n",
    "\n",
    "$$ \\frac{\\partial{f(x,y)}}{\\partial x} = \\lim_{\\Delta y\\rightarrow 0} \\frac{f(x,y + \\Delta x)-f(x,y)}{\\Delta x}$$\n",
    "\n",
    "$$ \\frac{\\partial{f(x,y)}}{\\partial y} = \\lim_{\\Delta y\\rightarrow 0} \\frac{f(x,y + \\Delta y)-f(x,y)}{\\Delta y}$$\n",
    "\n",
    "As we said before, we regart the image matrix as a continuous function, then each element of the matrix is the value of $f(x,y)$ and $\\Delta x$  ($\\Delta y$) is 1.\n",
    "\n",
    "This means the partial derivatives of the function is the substracion between two neighbor pixels. In this situation, *convolution* can help us to get the partial derivative matrix.\n",
    "\n",
    "---\n"
   ]
  },
  {
   "cell_type": "markdown",
   "metadata": {},
   "source": [
    "## Implementation\n",
    "\n",
    "Let's say we get a matrix like this:\n",
    "\\begin{bmatrix}\n",
    "    x_{11} & x_{12} & x_{13} & \\dots & x_{1n} \\\\\n",
    "    x_{21} & x_{22} & x_{23} & \\dots & x_{2n} \\\\\n",
    "    \\vdots & \\vdots & \\vdots & \\vdots &\\vdots  \\\\\n",
    "    x_{d1} & x_{d2} & x_{d3} & \\dots & x_{dn}\n",
    "\\end{bmatrix}\n",
    "\n",
    "The partial deravitive of $ith$ row is $x_{i (j+1)} - x_{i j}$.\n",
    "To get this result we need define our convolution kernel to \n",
    "\\begin{bmatrix}\n",
    "    1 & -1\n",
    "\\end{bmatrix}\n",
    "\n",
    "The partial deravitive of $jth$ column is $x_{(i+1) j} - x_{i j}$,\n",
    "thus we define our convolution kernel to \n",
    "\\begin{bmatrix}\n",
    "    1\\\\\n",
    "    -1\n",
    "\\end{bmatrix}\n",
    "\n",
    "However, the problem is if we use the $1 \\times 2$ or $2 \\times 1$ filters to do the computation, they will shift the image by half a pixel. To avoid this, we need to use kernels that have odd number of elements since the symmetric property.\n",
    "\n",
    "We change the kernel to:\n",
    "\n",
    "\\begin{bmatrix}\n",
    "    1 & 0 & -1 \n",
    "\\end{bmatrix}\n",
    "\n",
    "and,\n",
    "\n",
    "\\begin{bmatrix}\n",
    "    1 \\\\\n",
    "    0 \\\\\n",
    "    -1\n",
    "\\end{bmatrix}"
   ]
  },
  {
   "cell_type": "markdown",
   "metadata": {},
   "source": [
    "if we want to find the edge of objects in images,\n",
    "we need the gradient to find the change part\n",
    "\n",
    "the image data is a width\\*height\\*level matrix,\n",
    "if the image is gray, then just a width\\*height matrix\n",
    "\n",
    "the derivative is f(x+1)-f(x)/h, use convolution, we can the the partial derivative of x and y, then get the derivative\n",
    "\n",
    "- kernel for compute the partial derivative\n",
    "\n"
   ]
  }
 ],
 "metadata": {
  "kernelspec": {
   "display_name": "Python 3",
   "language": "python",
   "name": "python3"
  },
  "language_info": {
   "codemirror_mode": {
    "name": "ipython",
    "version": 3
   },
   "file_extension": ".py",
   "mimetype": "text/x-python",
   "name": "python",
   "nbconvert_exporter": "python",
   "pygments_lexer": "ipython3",
   "version": "3.6.5"
  }
 },
 "nbformat": 4,
 "nbformat_minor": 2
}
